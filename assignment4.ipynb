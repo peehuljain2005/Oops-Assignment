{
  "nbformat": 4,
  "nbformat_minor": 0,
  "metadata": {
    "colab": {
      "provenance": []
    },
    "kernelspec": {
      "name": "python3",
      "display_name": "Python 3"
    },
    "language_info": {
      "name": "python"
    }
  },
  "cells": [
    {
      "cell_type": "code",
      "execution_count": null,
      "metadata": {
        "id": "l9oR-YuV1p69"
      },
      "outputs": [],
      "source": []
    },
    {
      "cell_type": "markdown",
      "source": [
        "1 What is Object-Oriented Programming (OOP)"
      ],
      "metadata": {
        "id": "AGUQvOaH3arO"
      }
    },
    {
      "cell_type": "markdown",
      "source": [
        "Object-Oriented Programming (OOP) is a programming paradigm centered around the concept of objects, which are instances of classes. It’s designed to model real-world entities and their interactions in a structured and reusable way.\n"
      ],
      "metadata": {
        "id": "GqBZQXMV3dPm"
      }
    },
    {
      "cell_type": "markdown",
      "source": [
        " 2 What is a class in OOP"
      ],
      "metadata": {
        "id": "pDOwj1e83k6k"
      }
    },
    {
      "cell_type": "markdown",
      "source": [
        "A class is a fundamental building block in Object-Oriented Programming. It acts as a blueprint for creating objects, which are instances that hold specific data and behavior.\n",
        "\n"
      ],
      "metadata": {
        "id": "W7bu0FlH3ybb"
      }
    },
    {
      "cell_type": "markdown",
      "source": [
        "3 What is an object in OOP"
      ],
      "metadata": {
        "id": "NlIng2m14Cx3"
      }
    },
    {
      "cell_type": "markdown",
      "source": [
        "An object is an instance of a class. It represents a specific entity with its own state (data) and behavior (methods). While a class is just a blueprint, an object is the real-world implementation of that blueprint.\n"
      ],
      "metadata": {
        "id": "JVrgA5jC4IEu"
      }
    },
    {
      "cell_type": "markdown",
      "source": [
        " What is the difference between abstraction and encapsulation"
      ],
      "metadata": {
        "id": "bQ1FnwD24M98"
      }
    },
    {
      "cell_type": "markdown",
      "source": [
        "- Use abstraction to design clean interfaces.\n",
        "- Use encapsulation to protect and manage internal state.\n"
      ],
      "metadata": {
        "id": "7J5CE0ru4f2p"
      }
    },
    {
      "cell_type": "markdown",
      "source": [
        "5 What are dunder methods in Python"
      ],
      "metadata": {
        "id": "pKbdi1dp4vXe"
      }
    },
    {
      "cell_type": "markdown",
      "source": [
        "Dunder methods (short for “double underscore” methods) are special, built-in methods in Python that start and end with double underscores, like __init__, __str__, __len__, etc.\n",
        "They’re also called magic methods because they enable Python’s internal behavior—like object construction, string representation, operator overloading, and more.\n"
      ],
      "metadata": {
        "id": "0M8xnVeR4hEd"
      }
    },
    {
      "cell_type": "markdown",
      "source": [
        " 6 Explain the concept of inheritance in OOPS"
      ],
      "metadata": {
        "id": "kcICJSI642Fv"
      }
    },
    {
      "cell_type": "markdown",
      "source": [
        "Inheritance is a powerful feature in OOP that allows one class (called a child or subclass) to inherit properties and behaviors from another class (called a parent or superclass). It promotes code reuse, hierarchical organization, and extensibility.\n"
      ],
      "metadata": {
        "id": "lyePnkQ85IcE"
      }
    },
    {
      "cell_type": "markdown",
      "source": [
        "7 What is polymorphism in OOPS"
      ],
      "metadata": {
        "id": "zojkOkzS5Z0i"
      }
    },
    {
      "cell_type": "markdown",
      "source": [
        "Polymorphism is a core concept in OOP that allows objects of different classes to be treated as if they were objects of the same class—typically through a shared interface or parent class. The term comes from Greek, meaning “many forms.”\n"
      ],
      "metadata": {
        "id": "aFB9QquT5iav"
      }
    },
    {
      "cell_type": "markdown",
      "source": [
        "8 How is encapsulation achieved in Python?"
      ],
      "metadata": {
        "id": "tn19pfzw5x1Q"
      }
    },
    {
      "cell_type": "markdown",
      "source": [
        "Encapsulation in Python is achieved by restricting access to certain parts of an object’s internal state and behavior. This helps protect data from unintended interference and enforces controlled interaction through methods.\n"
      ],
      "metadata": {
        "id": "3cAanKGd5-bk"
      }
    },
    {
      "cell_type": "markdown",
      "source": [
        " 9 What is a constructor in Python?"
      ],
      "metadata": {
        "id": "M7Qr-8kx6L3s"
      }
    },
    {
      "cell_type": "markdown",
      "source": [
        "A constructor in Python is a special method used to initialize newly created objects. It sets up the object’s initial state by assigning values to its attributes when the object is instantiated.\n"
      ],
      "metadata": {
        "id": "PyBagkbb6ZZR"
      }
    },
    {
      "cell_type": "markdown",
      "source": [
        "10 What are class and static methods in Python?"
      ],
      "metadata": {
        "id": "Cu6Ch-aR6k8J"
      }
    },
    {
      "cell_type": "markdown",
      "source": [
        "Python gives you two special types of methods that aren't tied to individual object instances: class methods and static methods. Both are defined inside a class but serve different purposes and use different decorators.\n",
        "\n"
      ],
      "metadata": {
        "id": "2XX6T4Bi6sF_"
      }
    },
    {
      "cell_type": "markdown",
      "source": [
        "11 What is method overloading in Python?"
      ],
      "metadata": {
        "id": "6yywY_Ju7SII"
      }
    },
    {
      "cell_type": "markdown",
      "source": [
        "Method overloading refers to the ability to define multiple methods with the same name but different parameters—so the method behaves differently depending on how it's called.\n"
      ],
      "metadata": {
        "id": "FQROhgk_66S9"
      }
    },
    {
      "cell_type": "markdown",
      "source": [
        "12 What is method overriding in OOP?"
      ],
      "metadata": {
        "id": "-tWyKJKg7YUU"
      }
    },
    {
      "cell_type": "markdown",
      "source": [
        "Method overriding is a powerful feature in OOP that allows a subclass to provide a specific implementation of a method that is already defined in its parent class. The overridden method in the child class replaces the parent’s version when called on an instance of the child.\n"
      ],
      "metadata": {
        "id": "DqOF6NTX7j8H"
      }
    },
    {
      "cell_type": "markdown",
      "source": [
        "13 What is a property decorator in Python?"
      ],
      "metadata": {
        "id": "QRpMdtAq7njp"
      }
    },
    {
      "cell_type": "markdown",
      "source": [
        "The property decorator in Python is used to define a method as a read-only attribute. It allows you to access a method like an attribute, without using parentheses—making your code cleaner and more intuitive.\n"
      ],
      "metadata": {
        "id": "pb_bPDV_8SY4"
      }
    },
    {
      "cell_type": "markdown",
      "source": [
        "14 Why is polymorphism important in OOP?"
      ],
      "metadata": {
        "id": "ecKOBzFC82L7"
      }
    },
    {
      "cell_type": "markdown",
      "source": [
        "Polymorphism—from the Greek poly (many) and morph (form)—is a core principle of OOP that allows objects of different classes to be treated as instances of the same superclass. It enables a single interface to represent different underlying forms (data types or behaviors).\n"
      ],
      "metadata": {
        "id": "9Ybj5JJF8cBw"
      }
    },
    {
      "cell_type": "markdown",
      "source": [
        "15 What is an abstract class in Python?"
      ],
      "metadata": {
        "id": "rmxLeWaT8-5_"
      }
    },
    {
      "cell_type": "markdown",
      "source": [
        "An abstract class in Python is a class that cannot be instantiated directly and serves as a blueprint for other classes. It defines methods that must be implemented by its subclasses, ensuring a consistent interface across different implementations.\n",
        "\n",
        "\n"
      ],
      "metadata": {
        "id": "zL1MdCjb9Kh1"
      }
    },
    {
      "cell_type": "markdown",
      "source": [
        "16  What are the advantages of OOP?"
      ],
      "metadata": {
        "id": "mf2EKRRk9PPl"
      }
    },
    {
      "cell_type": "markdown",
      "source": [
        "- Modularity: Code is organized into classes, making it easier to manage.\n",
        "- 🔹 Reusability: Inheritance lets you reuse and extend existing code.\n",
        "- 🔹 Encapsulation: Protects internal data and hides complexity.\n",
        "- 🔹 Polymorphism: Same interface, different behaviors—flexible and    scalable.\n",
        "- 🔹 Maintainability: Easier to debug and update specific parts.\n",
        "- 🔹 Scalability: Supports growth from small to large systems.\n",
        "- 🔹 Collaboration: Teams can work independently on different modules.\n",
        "- 🔹 Security: Controls access to sensitive data.\n",
        "Let me know if you want a visual diagram or real-world example to go with it!\n"
      ],
      "metadata": {
        "id": "8e65hh3I9WpG"
      }
    },
    {
      "cell_type": "markdown",
      "source": [
        "17 What is the difference between a class variable and an instance variable?"
      ],
      "metadata": {
        "id": "gNru_GDI9wKA"
      }
    },
    {
      "cell_type": "markdown",
      "source": [
        "- Class Variable: Shared by all instances. Defined outside methods. Example: total_accounts.\n",
        "- Instance Variable: Unique to each object. Defined inside methods (usually __init__). Example: self.balance.\n"
      ],
      "metadata": {
        "id": "oitSyayU94kK"
      }
    },
    {
      "cell_type": "markdown",
      "source": [
        "18 What is multiple inheritance in Python?"
      ],
      "metadata": {
        "id": "LrTqjoih9-qT"
      }
    },
    {
      "cell_type": "markdown",
      "source": [
        "- Multiple inheritance means a class inherits from more than one parent.\n",
        "- It lets you combine features from multiple classes.\n",
        "- Python handles method conflicts using Method Resolution Order (MRO).\n",
        "- ⚠️ Be careful of the Diamond Problem, where inheritance paths overlap.\n",
        "Example:\n",
        "class A: pass\n",
        "class B: pass\n",
        "class C(A, B): pass  # C inherits from both A and B\n",
        "\n"
      ],
      "metadata": {
        "id": "ipgBejxR-E-8"
      }
    },
    {
      "cell_type": "markdown",
      "source": [
        "19 Explain the purpose of ‘’__str__’ and ‘__repr__’ ‘ methods in Python?"
      ],
      "metadata": {
        "id": "PVDkiD5P-RaF"
      }
    },
    {
      "cell_type": "markdown",
      "source": [
        "- __str__: Returns a user-friendly string representation of an object. Used when you call print(obj) or str(obj).\n",
        "\n",
        "- __repr__: Returns a developer-friendly string that ideally could recreate the object. Used by repr(obj) or in the Python shell.\n",
        "\n"
      ],
      "metadata": {
        "id": "N_BAfcca-dVe"
      }
    },
    {
      "cell_type": "markdown",
      "source": [
        "20 What is the significance of the ‘super()’ function in Python?"
      ],
      "metadata": {
        "id": "dsm1N7vm-pCP"
      }
    },
    {
      "cell_type": "markdown",
      "source": [
        "The super() function in Python is used to call methods from a parent class inside a subclass. It’s especially useful when:\n",
        "- ✅ You want to extend or customize inherited behavior.\n",
        "- ✅ You’re working with inheritance, including multiple inheritance.\n",
        "- ✅ You want to avoid hardcoding the parent class name.\n"
      ],
      "metadata": {
        "id": "EHgg_atc-vaQ"
      }
    },
    {
      "cell_type": "markdown",
      "source": [
        "21 What is the significance of the __del__ method in Python?"
      ],
      "metadata": {
        "id": "CIlAznYC-4xZ"
      }
    },
    {
      "cell_type": "markdown",
      "source": [
        "- Called automatically when an object is no longer referenced.\n",
        "- 🔹 Useful for cleaning up external resources (files, connections).\n",
        "- 🔹 Not guaranteed to run immediately or reliably—use with caution.\n",
        "- 🔹 Better alternatives: use with statements or context managers for"
      ],
      "metadata": {
        "id": "PqXI3bT1--SP"
      }
    },
    {
      "cell_type": "markdown",
      "source": [
        "22 What is the difference between @staticmethod and @classmethod in Python?"
      ],
      "metadata": {
        "id": "AIsSpGzh_IgF"
      }
    },
    {
      "cell_type": "markdown",
      "source": [
        "- @staticmethod:\n",
        "- No access to class or instance (no self or cls)\n",
        "- Used for utility functions\n",
        "- Doesn’t depend on class state\n",
        "- @classmethod:\n",
        "- Takes cls as first argument\n",
        "- Can access/modify class variables\n",
        "- Often used for alternative constructors\n"
      ],
      "metadata": {
        "id": "K-iDb4_v_Vq6"
      }
    },
    {
      "cell_type": "markdown",
      "source": [
        "23 How does polymorphism work in Python with inheritance?"
      ],
      "metadata": {
        "id": "wSUCctWw_iDE"
      }
    },
    {
      "cell_type": "markdown",
      "source": [
        "In Python, polymorphism with inheritance means that a subclass can override methods from its parent class, and those methods can be called using a common interface, regardless of the object’s actual type.\n"
      ],
      "metadata": {
        "id": "O2hDst65_Xfn"
      }
    },
    {
      "cell_type": "markdown",
      "source": [
        "24 What is method chaining in Python OOP?"
      ],
      "metadata": {
        "id": "lMYZKfR4_pDp"
      }
    },
    {
      "cell_type": "markdown",
      "source": [
        "Method chaining is a technique where multiple methods are called sequentially on the same object, in a single line of code. Each method returns the object itself (self), allowing the next method to be called immediately.\n"
      ],
      "metadata": {
        "id": "71iw4kI1_0s-"
      }
    },
    {
      "cell_type": "markdown",
      "source": [
        "25 What is the purpose of the __call__ method in Python?"
      ],
      "metadata": {
        "id": "Il00QoFv_5aQ"
      }
    },
    {
      "cell_type": "markdown",
      "source": [
        "The __call__ method lets you make instances of a class behave like functions. When defined, calling an object like obj() automatically triggers obj.__call__().\n",
        "\n",
        "?\n"
      ],
      "metadata": {
        "id": "_SrhPFW1__WS"
      }
    },
    {
      "cell_type": "markdown",
      "source": [
        "PRACTICAL QUESTIONS"
      ],
      "metadata": {
        "id": "C8qmRgfaAHNd"
      }
    },
    {
      "cell_type": "markdown",
      "source": [
        "1 Create a parent class Animal with a method speak() that prints a generic message. Create a child class Dog\n",
        "that overrides the speak() method to print \"Bark!\""
      ],
      "metadata": {
        "id": "s2oi5oKTAS7x"
      }
    },
    {
      "cell_type": "code",
      "source": [
        "class Animal:\n",
        "    def speak(self):\n",
        "        print(\"The animal makes a sound\")\n",
        "\n",
        "class Dog(Animal):\n",
        "    def speak(self):\n",
        "        print(\"Bark!\")"
      ],
      "metadata": {
        "id": "wP6nphfiAUEl"
      },
      "execution_count": null,
      "outputs": []
    },
    {
      "cell_type": "markdown",
      "source": [
        "2 Write a program to create an abstract class Shape with a method area(). Derive classes Circle and Rectangle\n",
        "from it and implement the area() method in both."
      ],
      "metadata": {
        "id": "Ne911bCmAai-"
      }
    },
    {
      "cell_type": "code",
      "source": [
        "from abc import ABC, abstractmethod\n",
        "\n",
        "class Shape(ABC):\n",
        "      @abstractmethod\n",
        "    def area(self):\n",
        "        pass\n",
        "\n",
        "class Circle(Shape):\n",
        "    def __init__(self, radius):\n",
        "        self.radius = radius\n",
        "\n",
        "    def area(self):\n",
        "        return 3.14 * self.radius * self.radius\n",
        "\n",
        "class Rectangle(Shape):\n",
        "    def __init__(self, length, width):\n",
        "        self.length = length\n",
        "        self.width = width\n",
        "\n",
        "    def area(self):\n",
        "        return self.length * self.width\n",
        "\n",
        "c = Circle(5)\n",
        "r = Rectangle(4, 6)\n",
        "\n",
        "print(\"Circle area:\", c.area())\n",
        "print(\"Rectangle area:\", r.area())"
      ],
      "metadata": {
        "id": "PWJeBiMoAfxU"
      },
      "execution_count": null,
      "outputs": []
    },
    {
      "cell_type": "markdown",
      "source": [
        "3 Implement a multi-level inheritance scenario where a class Vehicle has an attribute type. Derive a class Car\n",
        "and further derive a class ElectricCar that adds a battery attribute.?"
      ],
      "metadata": {
        "id": "f1PXa1IxA-QQ"
      }
    },
    {
      "cell_type": "code",
      "source": [
        "\n",
        "class Vehicle:\n",
        "    def __init__(self, vehicle_type):\n",
        "        self.type = vehicle_type\n",
        "\n",
        "class Car(Vehicle):\n",
        "    def __init__(self, vehicle_type, brand):\n",
        "        super().__init__(vehicle_type)\n",
        "        self.brand = brand\n",
        "\n",
        "\n",
        "class ElectricCar(Car):\n",
        "    def __init__(self, vehicle_type, brand, battery):\n",
        "        super().__init__(vehicle_type, brand)\n",
        "        self.battery = battery\n",
        "\n",
        "    def display_info(self):\n",
        "        print(\"Type:\", self.type)\n",
        "        print(\"Brand:\", self.brand)\n",
        "        print(\"Battery:\", self.battery)"
      ],
      "metadata": {
        "id": "j8D0ToABBEQo"
      },
      "execution_count": null,
      "outputs": []
    },
    {
      "cell_type": "markdown",
      "source": [
        "Demonstrate polymorphism by creating a base class Bird with a method fly(). Create two derived classes\n",
        "Sparrow and Penguin that override the fly() method."
      ],
      "metadata": {
        "id": "AB-0fPiEBkjX"
      }
    },
    {
      "cell_type": "code",
      "source": [
        "\n",
        "class Bird:\n",
        "    def fly(self):\n",
        "        print(\"This bird can fly.\")\n",
        "\n",
        "class Sparrow(Bird):\n",
        "    def fly(self):\n",
        "        print(\"Sparrow flies high in the sky.\")\n",
        "\n",
        "# Derived class: Penguin\n",
        "class Penguin(Bird):\n",
        "    def fly(self):\n",
        "        print(\"Penguins can't fly, but they swim really well.\")\n",
        "\n",
        "# Function to demonstrate polymorphism\n",
        "def show_flying_ability(bird):\n",
        "    bird.fly()\n",
        "\n",
        "# Create instances\n",
        "bird1 = Sparrow()\n",
        "bird2 = Penguin()\n",
        "\n",
        "# Demonstrate polymorphism\n",
        "show_flying_ability(bird1)\n",
        "show_flying_ability(bird2)"
      ],
      "metadata": {
        "id": "Dq-SAKYqBl-e"
      },
      "execution_count": null,
      "outputs": []
    },
    {
      "cell_type": "code",
      "source": [],
      "metadata": {
        "id": "WlHTVbGVB37u"
      },
      "execution_count": null,
      "outputs": []
    },
    {
      "cell_type": "markdown",
      "source": [
        "Write a program to demonstrate encapsulation by creating a class BankAccount with private attributes\n",
        "balance and methods to deposit, withdraw, and check balance."
      ],
      "metadata": {
        "id": "K6jEV9rPBraS"
      }
    },
    {
      "cell_type": "code",
      "source": [
        "class BankAccount:\n",
        "    def __init__(self, initial_balance=0):\n",
        "        self.__balance = initial_balance  # Private attribute\n",
        "\n",
        "    def deposit(self, amount):\n",
        "        if amount > 0:\n",
        "            self.__balance += amount\n",
        "            print(f\"Deposited ₹{amount}.\")\n",
        "        else:\n",
        "            print(\"Deposit amount must be positive.\")\n",
        "\n",
        "    def withdraw(self, amount):\n",
        "        if amount > 0:\n",
        "            if amount <= self.__balance:\n",
        "                self.__balance -= amount\n",
        "                print(f\"Withdrew ₹{amount}.\")\n",
        "            else:\n",
        "                print(\"Insufficient balance.\")\n",
        "        else:\n",
        "            print(\"Withdrawal amount must be positive.\")\n",
        "\n",
        "    def get_balance(self):\n",
        "        return self.__balance  # Public method to access private data\n",
        "\n",
        "\n",
        "#Demonstration\n",
        "if __name__ == \"__main__\":\n",
        "    account = BankAccount(1000)  # Initial balance ₹1000\n",
        "\n",
        "    account.deposit(500)         # Deposit ₹500\n",
        "    account.withdraw(200)        # Withdraw ₹200\n",
        "    print(f\"Current Balance: ₹{account.get_balance()}\")  # Check balance\n",
        "\n",
        "    # Trying to access private attribute directly (not recommended)\n",
        "    # print(account.__balance)  # This will raise an AttributeError"
      ],
      "metadata": {
        "id": "B9fuH2VbB8U9"
      },
      "execution_count": null,
      "outputs": []
    },
    {
      "cell_type": "markdown",
      "source": [
        "Demonstrate runtime polymorphism using a method play() in a base class Instrument. Derive classes Guitar\n",
        "and Piano that implement their own version of play()."
      ],
      "metadata": {
        "id": "y2Jmgc7hCDB3"
      }
    },
    {
      "cell_type": "code",
      "source": [
        "class Instrument:\n",
        "    def play(self):\n",
        "        print(\"Playing an instrument...\")\n",
        "\n",
        "class Guitar(Instrument):\n",
        "    def play(self):\n",
        "        print(\"Strumming the guitar \")\n",
        "\n",
        "class Piano(Instrument):\n",
        "    def play(self):\n",
        "        print(\"Playing the piano \")\n",
        "\n",
        "\n",
        "#  Demonstration of Runtime Polymorphism\n",
        "def perform(instrument: Instrument):\n",
        "    instrument.play()  # Calls the appropriate play() method at runtime\n",
        "\n",
        "\n",
        "#  Test\n",
        "if __name__ == \"__main__\":\n",
        "    my_guitar = Guitar()\n",
        "    my_piano = Piano()\n",
        "\n",
        "    perform(my_guitar)  # Output: Strumming the guitar\n",
        "    perform(my_piano)   # Output: Playing the piano"
      ],
      "metadata": {
        "id": "zsRKAdNkCHsp"
      },
      "execution_count": null,
      "outputs": []
    },
    {
      "cell_type": "markdown",
      "source": [
        "Create a class MathOperations with a class method add_numbers() to add two numbers and a static\n",
        "method subtract_numbers() to subtract two numbers."
      ],
      "metadata": {
        "id": "_Y8G5QXcCU9x"
      }
    },
    {
      "cell_type": "code",
      "source": [
        "class MathOperations:\n",
        "    @classmethod\n",
        "    def add_numbers(cls, a, b):\n",
        "        \"\"\"Class method to add two numbers\"\"\"\n",
        "        return a + b\n",
        "\n",
        "    @staticmethod\n",
        "    def subtract_numbers(a, b):\n",
        "        \"\"\"Static method to subtract two numbers\"\"\"\n",
        "        return a - b\n",
        "\n",
        "\n",
        "# 🔍 Demonstration\n",
        "if __name__ == \"__main__\":\n",
        "    # Using class method\n",
        "    sum_result = MathOperations.add_numbers(10, 5)\n",
        "    print(f\"Sum: {sum_result}\")  # Output: Sum: 15\n",
        "\n",
        "    # Using static method\n",
        "    diff_result = MathOperations.subtract_numbers(10, 5)\n",
        "    print(f\"Difference: {diff_result}\")  # Output: Difference: 5"
      ],
      "metadata": {
        "id": "u-o4BMogCaeW"
      },
      "execution_count": null,
      "outputs": []
    },
    {
      "cell_type": "markdown",
      "source": [
        "Implement a class Person with a class method to count the total number of persons created."
      ],
      "metadata": {
        "id": "cfH8cIG7CddZ"
      }
    },
    {
      "cell_type": "markdown",
      "source": [],
      "metadata": {
        "id": "V-O5IZX8CqZ5"
      }
    },
    {
      "cell_type": "markdown",
      "source": [],
      "metadata": {
        "id": "GLDhCbuSClFo"
      }
    },
    {
      "cell_type": "code",
      "source": [
        "class Person:\n",
        "    _count = 0  # Class variable to track number of instances\n",
        "\n",
        "    def __init__(self, name):\n",
        "        self.name = name\n",
        "        Person._count += 1  # Increment count whenever a new Person is created\n",
        "\n",
        "    @classmethod\n",
        "    def total_persons(cls):\n",
        "        \"\"\"Class method to return the total number of Person instances\"\"\"\n",
        "        return cls._count\n",
        "\n",
        "\n",
        "# 🔍 Demonstration\n",
        "if __name__ == \"__main__\":\n",
        "    p1 = Person(\"Alice\")\n",
        "    p2 = Person(\"Bob\")\n",
        "    p3 = Person(\"Charlie\")\n",
        "\n",
        "    print(f\"Total persons created: {Person.total_persons()}\")  # Output: 3"
      ],
      "metadata": {
        "id": "MuVI9oTEClQz"
      },
      "execution_count": null,
      "outputs": []
    },
    {
      "cell_type": "markdown",
      "source": [
        "Write a class Fraction with attributes numerator and denominator. Override the str method to display the\n",
        "fraction as \"numerator/denominator\"."
      ],
      "metadata": {
        "id": "fIGO2NnICrcU"
      }
    },
    {
      "cell_type": "code",
      "source": [
        "class Fraction:\n",
        "    def __init__(self, numerator, denominator):\n",
        "        if denominator == 0:\n",
        "            raise ValueError(\"Denominator cannot be zero.\")\n",
        "        self.numerator = numerator\n",
        "        self.denominator = denominator\n",
        "\n",
        "    def __str__(self):\n",
        "        return f\"{self.numerator}/{self.denominator}\"\n",
        "\n",
        "\n",
        "# 🔍 Demonstration\n",
        "if __name__ == \"__main__\":\n",
        "    f1 = Fraction(3, 4)\n",
        "    f2 = Fraction(7, 2)\n",
        "\n",
        "    print(f\"Fraction 1: {f1}\")  # Output: Fraction 1: 3/4\n",
        "    print(f\"Fraction 2: {f2}\")  # Output: Fraction 2: 7/2"
      ],
      "metadata": {
        "id": "V-AjdPvrC1HI"
      },
      "execution_count": null,
      "outputs": []
    },
    {
      "cell_type": "markdown",
      "source": [
        ". Demonstrate operator overloading by creating a class Vector and overriding the add method to add two\n",
        "vectors."
      ],
      "metadata": {
        "id": "-uzfb8q9C4cE"
      }
    },
    {
      "cell_type": "code",
      "source": [
        "class Vector:\n",
        "    def __init__(self, x, y):\n",
        "        self.x = x\n",
        "        self.y = y\n",
        "\n",
        "    def __add__(self, other):\n",
        "        if isinstance(other, Vector):\n",
        "            return Vector(self.x + other.x, self.y + other.y)\n",
        "        return NotImplemented\n",
        "\n",
        "    def __str__(self):\n",
        "        return f\"({self.x}, {self.y})\"\n",
        "\n",
        "\n",
        "# 🔍 Demonstration\n",
        "if __name__ == \"__main__\":\n",
        "    v1 = Vector(2, 3)\n",
        "    v2 = Vector(4, 1)\n",
        "\n",
        "    v3 = v1 + v2  # Uses overloaded + operator\n",
        "    print(f\"Vector 1: {v1}\")  # Output: (2, 3)\n",
        "    print(f\"Vector 2: {v2}\")  # Output: (4, 1)\n",
        "    print(f\"Sum: {v3}\")       # Output: (6, 4)"
      ],
      "metadata": {
        "id": "hb2ot_IwDBpy"
      },
      "execution_count": null,
      "outputs": []
    },
    {
      "cell_type": "markdown",
      "source": [
        ". Create a class Person with attributes name and age. Add a method greet() that prints \"Hello, my name is\n",
        "{name} and I am {age} years old.\"\n"
      ],
      "metadata": {
        "id": "QIQMnyfRDEPA"
      }
    },
    {
      "cell_type": "code",
      "source": [
        "class Person:\n",
        "    def __init__(self, name, age):\n",
        "        self.name = name\n",
        "        self.age = age\n",
        "\n",
        "    def greet(self):\n",
        "        print(f\"Hello, my name is {self.name} and I am {self.age} years old.\")\n",
        "\n",
        "\n",
        "# 🔍 Demonstration\n",
        "if __name__ == \"__main__\":\n",
        "    p1 = Person(\"Aarav\", 25)\n",
        "    p2 = Person(\"Meera\", 30)\n",
        "\n",
        "    p1.greet()  # Output: Hello, my name is Aarav and I am 25 years old.\n",
        "    p2.greet()  # Output: Hello, my name is Meera and I am 30 years old."
      ],
      "metadata": {
        "id": "XCkWR24oDLUC"
      },
      "execution_count": null,
      "outputs": []
    },
    {
      "cell_type": "markdown",
      "source": [
        "2. Implement a class Student with attributes name and grades. Create a method average_grade() to compute\n",
        "the average of the grades."
      ],
      "metadata": {
        "id": "kMm2uHcQDME7"
      }
    },
    {
      "cell_type": "code",
      "source": [
        "class Student:\n",
        "    def __init__(self, name, grades):\n",
        "        self.name = name\n",
        "        self.grades = grades  # Expecting a list of numeric grades\n",
        "\n",
        "    def average_grade(self):\n",
        "        if not self.grades:\n",
        "            return 0.0\n",
        "        return sum(self.grades) / len(self.grades)\n",
        "\n",
        "\n",
        "# 🔍 Demonstration\n",
        "if __name__ == \"__main__\":\n",
        "    s1 = Student(\"Riya\", [85, 90, 78, 92])\n",
        "    s2 = Student(\"Kabir\", [70, 65, 80])\n",
        "\n",
        "    print(f\"{s1.name}'s average grade: {s1.average_grade():.2f}\")  # Output: 86.25\n",
        "    print(f\"{s2.name}'s average grade: {s2.average_grade():.2f}\")  # Output: 71.67"
      ],
      "metadata": {
        "id": "u5bJu4d3DS5e"
      },
      "execution_count": null,
      "outputs": []
    },
    {
      "cell_type": "markdown",
      "source": [
        " Create a class Rectangle with methods set_dimensions() to set the dimensions and area() to calculate the\n",
        "area"
      ],
      "metadata": {
        "id": "w1jBudhBDXLY"
      }
    },
    {
      "cell_type": "code",
      "source": [
        "class Rectangle:\n",
        "    def __init__(self):\n",
        "        self.length = 0\n",
        "        self.width = 0\n",
        "\n",
        "    def set_dimensions(self, length, width):\n",
        "        if length <= 0 or width <= 0:\n",
        "            raise ValueError(\"Length and width must be positive numbers.\")\n",
        "        self.length = length\n",
        "        self.width = width\n",
        "\n",
        "    def area(self):\n",
        "        return self.length * self.width\n",
        "\n",
        "\n",
        "# 🔍 Demonstration\n",
        "if __name__ == \"__main__\":\n",
        "    rect = Rectangle()\n",
        "    rect.set_dimensions(5, 3)\n",
        "\n",
        "    print(f\"Rectangle dimensions: {rect.length} x {rect.width}\")\n",
        "    print(f\"Area: {rect.area()}\")  # Output: Area: 15"
      ],
      "metadata": {
        "id": "c-JWSirLDcYW"
      },
      "execution_count": null,
      "outputs": []
    },
    {
      "cell_type": "markdown",
      "source": [
        ". Create a class Employee with a method calculate_salary() that computes the salary based on hours worked\n",
        "and hourly rate. Create a derived class Manager that adds a bonus to the salary."
      ],
      "metadata": {
        "id": "lanADzxyDg6X"
      }
    },
    {
      "cell_type": "code",
      "source": [
        "class Employee:\n",
        "    def __init__(self, name, hours_worked, hourly_rate):\n",
        "        self.name = name\n",
        "        self.hours_worked = hours_worked\n",
        "        self.hourly_rate = hourly_rate\n",
        "\n",
        "    def calculate_salary(self):\n",
        "        return self.hours_worked * self.hourly_rate\n",
        "\n",
        "\n",
        "class Manager(Employee):\n",
        "    def __init__(self, name, hours_worked, hourly_rate, bonus):\n",
        "        super().__init__(name, hours_worked, hourly_rate)\n",
        "        self.bonus = bonus\n",
        "\n",
        "    def calculate_salary(self):\n",
        "        base_salary = super().calculate_salary()\n",
        "        return base_salary + self.bonus\n",
        "\n",
        "\n",
        "# 🔍 Demonstration\n",
        "if __name__ == \"__main__\":\n",
        "    emp = Employee(\"Anita\", 40, 500)\n",
        "    mgr = Manager(\"Raj\", 45, 700, 5000)\n",
        "\n",
        "    print(f\"{emp.name}'s Salary: ₹{emp.calculate_salary()}\")   # Output: ₹20000\n",
        "    print(f\"{mgr.name}'s Salary: ₹{mgr.calculate_salary()}\")   # Output: ₹36500"
      ],
      "metadata": {
        "id": "fSV3bJ_6Dmtb"
      },
      "execution_count": null,
      "outputs": []
    },
    {
      "cell_type": "markdown",
      "source": [
        " Create a class Product with attributes name, price, and quantity. Implement a method total_price() that\n",
        "calculates the total price of the product."
      ],
      "metadata": {
        "id": "myrgRvU3Do8u"
      }
    },
    {
      "cell_type": "code",
      "source": [
        "class Product:\n",
        "    def __init__(self, name, price, quantity):\n",
        "        if price < 0 or quantity < 0:\n",
        "            raise ValueError(\"Price and quantity must be non-negative.\")\n",
        "        self.name = name\n",
        "        self.price = price\n",
        "        self.quantity = quantity\n",
        "\n",
        "    def total_price(self):\n",
        "        return self.price * self.quantity\n",
        "\n",
        "\n",
        "# 🔍 Demonstration\n",
        "if __name__ == \"__main__\":\n",
        "    item1 = Product(\"Laptop\", 55000, 2)\n",
        "    item2 = Product(\"Headphones\", 1500, 5)\n",
        "\n",
        "    print(f\"{item1.name} Total Price: ₹{item1.total_price()}\")  # Output: ₹110000\n",
        "    print(f\"{item2.name} Total Price: ₹{item2.total_price()}\")  # Output: ₹7500"
      ],
      "metadata": {
        "id": "BHNjOyq_DtGX"
      },
      "execution_count": null,
      "outputs": []
    },
    {
      "cell_type": "markdown",
      "source": [
        ". Create a class Animal with an abstract method sound(). Create two derived classes Cow and Sheep that\n",
        "implement the sound() method."
      ],
      "metadata": {
        "id": "3ztuNgiLDvvw"
      }
    },
    {
      "cell_type": "code",
      "source": [
        "from abc import ABC, abstractmethod\n",
        "\n",
        "class Animal(ABC):\n",
        "    @abstractmethod\n",
        "    def sound(self):\n",
        "        pass\n",
        "\n",
        "\n",
        "class Cow(Animal):\n",
        "    def sound(self):\n",
        "        return \"Moo 🐄\"\n",
        "\n",
        "\n",
        "class Sheep(Animal):\n",
        "    def sound(self):\n",
        "        return \"Baa 🐑\"\n",
        "\n",
        "\n",
        "# 🔍 Demonstration\n",
        "if __name__ == \"__main__\":\n",
        "    cow = Cow()\n",
        "    sheep = Sheep()\n",
        "\n",
        "    print(f\"Cow says: {cow.sound()}\")     # Output: Moo 🐄\n",
        "    print(f\"Sheep says: {sheep.sound()}\") # Output: Baa 🐑"
      ],
      "metadata": {
        "id": "M7-FUr30D1bk"
      },
      "execution_count": null,
      "outputs": []
    },
    {
      "cell_type": "markdown",
      "source": [
        " Create a class Book with attributes title, author, and year_published. Add a method get_book_info() that\n",
        "returns a formatted string with the book's details"
      ],
      "metadata": {
        "id": "YG5cMZ9ZD5KT"
      }
    },
    {
      "cell_type": "code",
      "source": [
        "class Book:\n",
        "    def __init__(self, title, author, year_published):\n",
        "        self.title = title\n",
        "        self.author = author\n",
        "        self.year_published = year_published\n",
        "\n",
        "    def get_book_info(self):\n",
        "        return f\"📖 '{self.title}' by {self.author} (Published: {self.year_published})\"\n",
        "\n",
        "\n",
        "# 🔍 Demonstration\n",
        "if __name__ == \"__main__\":\n",
        "    book1 = Book(\"To Kill a Mockingbird\", \"Harper Lee\", 1960)\n",
        "    book2 = Book(\"The Alchemist\", \"Paulo Coelho\", 1988)\n",
        "\n",
        "    print(book1.get_book_info())\n",
        "    print(book2.get_book_info())"
      ],
      "metadata": {
        "id": "crXhKccaD8px"
      },
      "execution_count": null,
      "outputs": []
    },
    {
      "cell_type": "markdown",
      "source": [
        ". Create a class House with attributes address and price. Create a derived class Mansion that adds an\n",
        "attribute number_of_rooms."
      ],
      "metadata": {
        "id": "iPEJoBKOD_kX"
      }
    },
    {
      "cell_type": "code",
      "source": [
        "class House:\n",
        "    def __init__(self, address, price):\n",
        "        self.address = address\n",
        "        self.price = price\n",
        "\n",
        "    def get_info(self):\n",
        "        return f\"🏠 Address: {self.address}, Price: ₹{self.price}\"\n",
        "\n",
        "\n",
        "class Mansion(House):\n",
        "    def __init__(self, address, price, number_of_rooms):\n",
        "        super().__init__(address, price)\n",
        "        self.number_of_rooms = number_of_rooms\n",
        "\n",
        "    def get_info(self):\n",
        "        base_info = super().get_info()\n",
        "        return f\"{base_info}, Rooms: {self.number_of_rooms}\"\n",
        "\n",
        "\n",
        "# 🔍 Demonstration\n",
        "if __name__ == \"__main__\":\n",
        "    house = House(\"123 Green Street\", 5000000)\n",
        "    mansion = Mansion(\"456 Royal Avenue\", 25000000, 12)\n",
        "\n",
        "    print(house.get_info())    # Output: 🏠 Address: 123 Green Street, Price: ₹5000000\n",
        "    print(mansion.get_info())  # Output: 🏠 Address: 456 Royal Avenue, Price: ₹25000000, Rooms: 12"
      ],
      "metadata": {
        "id": "iakNpG4kECx9"
      },
      "execution_count": null,
      "outputs": []
    }
  ]
}